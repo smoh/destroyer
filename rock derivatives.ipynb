{
 "cells": [
  {
   "cell_type": "code",
   "execution_count": 1,
   "metadata": {
    "collapsed": true
   },
   "outputs": [],
   "source": [
    "%matplotlib inline\n",
    "import matplotlib.pyplot as plt\n",
    "import pandas as pd\n",
    "import numpy as np\n",
    "\n",
    "from astropy.table import Table\n",
    "import astropy.units as u\n",
    "import astropy.constants as c\n",
    "import astropy.coordinates as coords"
   ]
  },
  {
   "cell_type": "code",
   "execution_count": 2,
   "metadata": {
    "collapsed": true
   },
   "outputs": [],
   "source": [
    "plt.rc('figure', dpi=120)"
   ]
  },
  {
   "cell_type": "markdown",
   "metadata": {},
   "source": [
    "Notations:\n",
    "- the star has abundances $[X_k/H]$\n",
    "- the mass of the star is $M$\n",
    "- the mass fraction in the convective zone is $\\alpha$\n",
    "- the Earth composition in parts per million in mass is $g_k$ for element $k$\n",
    "- the mass of rocks added: $m$ (_not to be confused with $m_k$ which is the mass of element $k$ in arbitrary unit_)\n",
    "- the star's composition in mass fraction $f_k$\n",
    "\n",
    "$f_k$ is related to $[X_k/H]$ as\n",
    "$$ f_k = \\frac{10^{[X_k/H]}m_k}{\\Sigma_i 10^{[X_k/H]}m_k}$$"
   ]
  },
  {
   "cell_type": "markdown",
   "metadata": {},
   "source": [
    "Consider $[X_k/Fe]$ after rocks of mass $m$ with composition $f_k$ has been added, and mixed thoroughly in the photosphere and convective zone, affecting the mass of $\\alpha M$.\n",
    "\n",
    "$$[X_k/\\mathrm{Fe}] = \\log_{10} \\left( \\frac{(f_k \\alpha M + g_k m)/m_k}{(f_\\mathrm{Fe}\\alpha M + g_\\mathrm{Fe} m)/m_\\mathrm{Fe}} \\right) - \\log_{10} \\frac{n_{k,\\odot}}{n_{\\mathrm{Fe}, \\odot}}$$\n",
    "\n",
    "Take derivative with respect to $m$:\n",
    "\n",
    "$$ \\frac{d\\ln Q_k}{dm} \\equiv \\ln 10 \\frac{d [X_k/\\mathrm{Fe}]}{d m} = \\left(\\frac{g_k}{f_k\\alpha M + g_k m} - \\frac{g_\\mathrm{Fe}}{f_\\mathrm{Fe}\\alpha M + g_\\mathrm{Fe} m} \\right)$$\n",
    "\n",
    "When $m=0$,\n",
    "\n",
    "$$\\frac{d\\ln Q_k}{dm} = \\left( \\frac{g_k}{f_k} - \\frac{g_\\mathrm{Fe}}{f_\\mathrm{Fe}} \\right) \\frac{1}{\\alpha M}\n",
    "$$\n",
    "\n",
    "When $m/(\\alpha M) \\ll 1$,\n",
    "$$ \\frac{d\\ln Q_k}{dm} \\approx \\left( \\frac{g_k}{f_k} - \\frac{g_\\mathrm{Fe}}{f_\\mathrm{Fe}} \\right)\n",
    "\\left( 1-\\left(\\frac{g_k}{f_k} + \\frac{g_\\mathrm{Fe}}{f_\\mathrm{Fe}}\\right)\\frac{m}{\\alpha M}\\right)\\frac{1}{\\alpha M} + \\mathcal{O}((\\frac{m}{\\alpha M})^2)$$\n"
   ]
  },
  {
   "cell_type": "markdown",
   "metadata": {},
   "source": [
    "SMOH: By choosing a small bin in spectral parameters ($T_\\mathrm{eff}$, $\\log g$, [Fe/H]), we have a handle on\n",
    "\n",
    "- $\\alpha$, which fortunately stays roughly constant after the first Gyr of a star's life,\n",
    "- $M$,\n",
    "- $f_\\mathrm{Fe}$\n",
    "\n",
    "But what about $f_k$? Since we will derive the spectral expectation (i.e., \"mean\" spectrum) for the given spectral parameters, this spectrum contains the information about the mean abundance $[X_k/\\mathrm{Fe}]$ or equivalently $f_k$. A way would be to do measure abundances (+ dispersions?) from the mean spectra. Another is to make a strong assumption that the metal abundance pattern is e.g., sun-like (something we know)."
   ]
  },
  {
   "cell_type": "code",
   "execution_count": 3,
   "metadata": {},
   "outputs": [
    {
     "name": "stdout",
     "output_type": "stream",
     "text": [
      "asplund2009.csv\r\n",
      "atomicmass.csv\r\n",
      "mcdonough2003.csv\r\n"
     ]
    }
   ],
   "source": [
    "ls -1 data/"
   ]
  },
  {
   "cell_type": "code",
   "execution_count": 4,
   "metadata": {},
   "outputs": [],
   "source": [
    "solar = pd.read_csv(\"data/asplund2009.csv\", skipinitialspace=True, comment='#')\n",
    "atomic = pd.read_csv(\"data/atomicmass.csv\", skipinitialspace=True, comment='#')\n",
    "earth = pd.read_csv(\"data/mcdonough2003.csv\", skipinitialspace=True, comment='#')"
   ]
  },
  {
   "cell_type": "code",
   "execution_count": 5,
   "metadata": {},
   "outputs": [
    {
     "data": {
      "text/html": [
       "<div>\n",
       "<style>\n",
       "    .dataframe thead tr:only-child th {\n",
       "        text-align: right;\n",
       "    }\n",
       "\n",
       "    .dataframe thead th {\n",
       "        text-align: left;\n",
       "    }\n",
       "\n",
       "    .dataframe tbody tr th {\n",
       "        vertical-align: top;\n",
       "    }\n",
       "</style>\n",
       "<table border=\"1\" class=\"dataframe\">\n",
       "  <thead>\n",
       "    <tr style=\"text-align: right;\">\n",
       "      <th></th>\n",
       "      <th>Z</th>\n",
       "      <th>element</th>\n",
       "      <th>photosphere</th>\n",
       "      <th>photosphere_error</th>\n",
       "      <th>CIchon_LPG09</th>\n",
       "      <th>CIchon_LPG09_error</th>\n",
       "    </tr>\n",
       "  </thead>\n",
       "  <tbody>\n",
       "    <tr>\n",
       "      <th>0</th>\n",
       "      <td>1</td>\n",
       "      <td>H</td>\n",
       "      <td>12.00</td>\n",
       "      <td>NaN</td>\n",
       "      <td>8.22</td>\n",
       "      <td>0.04</td>\n",
       "    </tr>\n",
       "    <tr>\n",
       "      <th>1</th>\n",
       "      <td>2</td>\n",
       "      <td>He</td>\n",
       "      <td>10.93</td>\n",
       "      <td>0.01</td>\n",
       "      <td>1.29</td>\n",
       "      <td>NaN</td>\n",
       "    </tr>\n",
       "    <tr>\n",
       "      <th>2</th>\n",
       "      <td>3</td>\n",
       "      <td>Li</td>\n",
       "      <td>1.05</td>\n",
       "      <td>0.10</td>\n",
       "      <td>3.26</td>\n",
       "      <td>0.05</td>\n",
       "    </tr>\n",
       "    <tr>\n",
       "      <th>3</th>\n",
       "      <td>4</td>\n",
       "      <td>Be</td>\n",
       "      <td>1.38</td>\n",
       "      <td>0.09</td>\n",
       "      <td>1.30</td>\n",
       "      <td>0.03</td>\n",
       "    </tr>\n",
       "    <tr>\n",
       "      <th>4</th>\n",
       "      <td>5</td>\n",
       "      <td>B</td>\n",
       "      <td>2.70</td>\n",
       "      <td>0.20</td>\n",
       "      <td>2.79</td>\n",
       "      <td>0.04</td>\n",
       "    </tr>\n",
       "  </tbody>\n",
       "</table>\n",
       "</div>"
      ],
      "text/plain": [
       "   Z element  photosphere  photosphere_error  CIchon_LPG09  CIchon_LPG09_error\n",
       "0  1       H        12.00                NaN          8.22                0.04\n",
       "1  2      He        10.93               0.01          1.29                 NaN\n",
       "2  3      Li         1.05               0.10          3.26                0.05\n",
       "3  4      Be         1.38               0.09          1.30                0.03\n",
       "4  5       B         2.70               0.20          2.79                0.04"
      ]
     },
     "execution_count": 5,
     "metadata": {},
     "output_type": "execute_result"
    }
   ],
   "source": [
    "solar.head()"
   ]
  },
  {
   "cell_type": "code",
   "execution_count": 6,
   "metadata": {},
   "outputs": [
    {
     "data": {
      "text/html": [
       "<div>\n",
       "<style>\n",
       "    .dataframe thead tr:only-child th {\n",
       "        text-align: right;\n",
       "    }\n",
       "\n",
       "    .dataframe thead th {\n",
       "        text-align: left;\n",
       "    }\n",
       "\n",
       "    .dataframe tbody tr th {\n",
       "        vertical-align: top;\n",
       "    }\n",
       "</style>\n",
       "<table border=\"1\" class=\"dataframe\">\n",
       "  <thead>\n",
       "    <tr style=\"text-align: right;\">\n",
       "      <th></th>\n",
       "      <th>element</th>\n",
       "      <th>bulk</th>\n",
       "    </tr>\n",
       "  </thead>\n",
       "  <tbody>\n",
       "    <tr>\n",
       "      <th>0</th>\n",
       "      <td>H</td>\n",
       "      <td>260.00</td>\n",
       "    </tr>\n",
       "    <tr>\n",
       "      <th>1</th>\n",
       "      <td>Li</td>\n",
       "      <td>1.10</td>\n",
       "    </tr>\n",
       "    <tr>\n",
       "      <th>2</th>\n",
       "      <td>Be</td>\n",
       "      <td>0.05</td>\n",
       "    </tr>\n",
       "    <tr>\n",
       "      <th>3</th>\n",
       "      <td>B</td>\n",
       "      <td>0.20</td>\n",
       "    </tr>\n",
       "    <tr>\n",
       "      <th>4</th>\n",
       "      <td>C</td>\n",
       "      <td>730.00</td>\n",
       "    </tr>\n",
       "  </tbody>\n",
       "</table>\n",
       "</div>"
      ],
      "text/plain": [
       "  element    bulk\n",
       "0       H  260.00\n",
       "1      Li    1.10\n",
       "2      Be    0.05\n",
       "3       B    0.20\n",
       "4       C  730.00"
      ]
     },
     "execution_count": 6,
     "metadata": {},
     "output_type": "execute_result"
    }
   ],
   "source": [
    "earth.head()"
   ]
  },
  {
   "cell_type": "code",
   "execution_count": 7,
   "metadata": {},
   "outputs": [
    {
     "data": {
      "text/html": [
       "<div>\n",
       "<style>\n",
       "    .dataframe thead tr:only-child th {\n",
       "        text-align: right;\n",
       "    }\n",
       "\n",
       "    .dataframe thead th {\n",
       "        text-align: left;\n",
       "    }\n",
       "\n",
       "    .dataframe tbody tr th {\n",
       "        vertical-align: top;\n",
       "    }\n",
       "</style>\n",
       "<table border=\"1\" class=\"dataframe\">\n",
       "  <thead>\n",
       "    <tr style=\"text-align: right;\">\n",
       "      <th></th>\n",
       "      <th>Z</th>\n",
       "      <th>element</th>\n",
       "      <th>Name</th>\n",
       "      <th>weight</th>\n",
       "    </tr>\n",
       "  </thead>\n",
       "  <tbody>\n",
       "    <tr>\n",
       "      <th>0</th>\n",
       "      <td>1</td>\n",
       "      <td>H</td>\n",
       "      <td>Hydrogen</td>\n",
       "      <td>1.008</td>\n",
       "    </tr>\n",
       "    <tr>\n",
       "      <th>1</th>\n",
       "      <td>2</td>\n",
       "      <td>He</td>\n",
       "      <td>Helium</td>\n",
       "      <td>4.002</td>\n",
       "    </tr>\n",
       "    <tr>\n",
       "      <th>2</th>\n",
       "      <td>3</td>\n",
       "      <td>Li</td>\n",
       "      <td>Lithium</td>\n",
       "      <td>6.940</td>\n",
       "    </tr>\n",
       "    <tr>\n",
       "      <th>3</th>\n",
       "      <td>4</td>\n",
       "      <td>Be</td>\n",
       "      <td>Beryllium</td>\n",
       "      <td>9.012</td>\n",
       "    </tr>\n",
       "    <tr>\n",
       "      <th>4</th>\n",
       "      <td>5</td>\n",
       "      <td>B</td>\n",
       "      <td>Boron</td>\n",
       "      <td>10.810</td>\n",
       "    </tr>\n",
       "  </tbody>\n",
       "</table>\n",
       "</div>"
      ],
      "text/plain": [
       "   Z element       Name  weight\n",
       "0  1       H   Hydrogen   1.008\n",
       "1  2      He     Helium   4.002\n",
       "2  3      Li    Lithium   6.940\n",
       "3  4      Be  Beryllium   9.012\n",
       "4  5       B      Boron  10.810"
      ]
     },
     "execution_count": 7,
     "metadata": {},
     "output_type": "execute_result"
    }
   ],
   "source": [
    "atomic.head()"
   ]
  },
  {
   "cell_type": "code",
   "execution_count": 8,
   "metadata": {},
   "outputs": [
    {
     "data": {
      "text/html": [
       "<div>\n",
       "<style>\n",
       "    .dataframe thead tr:only-child th {\n",
       "        text-align: right;\n",
       "    }\n",
       "\n",
       "    .dataframe thead th {\n",
       "        text-align: left;\n",
       "    }\n",
       "\n",
       "    .dataframe tbody tr th {\n",
       "        vertical-align: top;\n",
       "    }\n",
       "</style>\n",
       "<table border=\"1\" class=\"dataframe\">\n",
       "  <thead>\n",
       "    <tr style=\"text-align: right;\">\n",
       "      <th></th>\n",
       "      <th>Z</th>\n",
       "      <th>element</th>\n",
       "      <th>photosphere</th>\n",
       "      <th>bulk</th>\n",
       "      <th>Name</th>\n",
       "      <th>weight</th>\n",
       "    </tr>\n",
       "  </thead>\n",
       "  <tbody>\n",
       "    <tr>\n",
       "      <th>0</th>\n",
       "      <td>1</td>\n",
       "      <td>H</td>\n",
       "      <td>12.00</td>\n",
       "      <td>260.00</td>\n",
       "      <td>Hydrogen</td>\n",
       "      <td>1.008</td>\n",
       "    </tr>\n",
       "    <tr>\n",
       "      <th>1</th>\n",
       "      <td>2</td>\n",
       "      <td>He</td>\n",
       "      <td>10.93</td>\n",
       "      <td>NaN</td>\n",
       "      <td>Helium</td>\n",
       "      <td>4.002</td>\n",
       "    </tr>\n",
       "    <tr>\n",
       "      <th>2</th>\n",
       "      <td>3</td>\n",
       "      <td>Li</td>\n",
       "      <td>1.05</td>\n",
       "      <td>1.10</td>\n",
       "      <td>Lithium</td>\n",
       "      <td>6.940</td>\n",
       "    </tr>\n",
       "    <tr>\n",
       "      <th>3</th>\n",
       "      <td>4</td>\n",
       "      <td>Be</td>\n",
       "      <td>1.38</td>\n",
       "      <td>0.05</td>\n",
       "      <td>Beryllium</td>\n",
       "      <td>9.012</td>\n",
       "    </tr>\n",
       "    <tr>\n",
       "      <th>4</th>\n",
       "      <td>5</td>\n",
       "      <td>B</td>\n",
       "      <td>2.70</td>\n",
       "      <td>0.20</td>\n",
       "      <td>Boron</td>\n",
       "      <td>10.810</td>\n",
       "    </tr>\n",
       "  </tbody>\n",
       "</table>\n",
       "</div>"
      ],
      "text/plain": [
       "   Z element  photosphere    bulk       Name  weight\n",
       "0  1       H        12.00  260.00   Hydrogen   1.008\n",
       "1  2      He        10.93     NaN     Helium   4.002\n",
       "2  3      Li         1.05    1.10    Lithium   6.940\n",
       "3  4      Be         1.38    0.05  Beryllium   9.012\n",
       "4  5       B         2.70    0.20      Boron  10.810"
      ]
     },
     "execution_count": 8,
     "metadata": {},
     "output_type": "execute_result"
    }
   ],
   "source": [
    "tb = pd.merge(solar[['Z','element','photosphere']], earth, how='outer', on='element')\n",
    "tb = pd.merge(tb, atomic[['element','Name','weight']], how='left', on='element')\n",
    "tb.head()"
   ]
  },
  {
   "cell_type": "markdown",
   "metadata": {},
   "source": [
    "Some elements are missing in either solar photospheric or bulk earth composition."
   ]
  },
  {
   "cell_type": "code",
   "execution_count": 9,
   "metadata": {},
   "outputs": [
    {
     "data": {
      "text/html": [
       "<div>\n",
       "<style>\n",
       "    .dataframe thead tr:only-child th {\n",
       "        text-align: right;\n",
       "    }\n",
       "\n",
       "    .dataframe thead th {\n",
       "        text-align: left;\n",
       "    }\n",
       "\n",
       "    .dataframe tbody tr th {\n",
       "        vertical-align: top;\n",
       "    }\n",
       "</style>\n",
       "<table border=\"1\" class=\"dataframe\">\n",
       "  <thead>\n",
       "    <tr style=\"text-align: right;\">\n",
       "      <th></th>\n",
       "      <th>Z</th>\n",
       "      <th>element</th>\n",
       "      <th>photosphere</th>\n",
       "      <th>bulk</th>\n",
       "      <th>Name</th>\n",
       "      <th>weight</th>\n",
       "    </tr>\n",
       "  </thead>\n",
       "  <tbody>\n",
       "    <tr>\n",
       "      <th>1</th>\n",
       "      <td>2</td>\n",
       "      <td>He</td>\n",
       "      <td>10.93</td>\n",
       "      <td>NaN</td>\n",
       "      <td>Helium</td>\n",
       "      <td>4.0020</td>\n",
       "    </tr>\n",
       "    <tr>\n",
       "      <th>9</th>\n",
       "      <td>10</td>\n",
       "      <td>Ne</td>\n",
       "      <td>7.93</td>\n",
       "      <td>NaN</td>\n",
       "      <td>Neon</td>\n",
       "      <td>20.1797</td>\n",
       "    </tr>\n",
       "    <tr>\n",
       "      <th>17</th>\n",
       "      <td>18</td>\n",
       "      <td>Ar</td>\n",
       "      <td>6.40</td>\n",
       "      <td>NaN</td>\n",
       "      <td>Argon</td>\n",
       "      <td>39.9480</td>\n",
       "    </tr>\n",
       "    <tr>\n",
       "      <th>32</th>\n",
       "      <td>33</td>\n",
       "      <td>As</td>\n",
       "      <td>NaN</td>\n",
       "      <td>1.700</td>\n",
       "      <td>Arsenic</td>\n",
       "      <td>74.9210</td>\n",
       "    </tr>\n",
       "    <tr>\n",
       "      <th>33</th>\n",
       "      <td>34</td>\n",
       "      <td>Se</td>\n",
       "      <td>NaN</td>\n",
       "      <td>2.700</td>\n",
       "      <td>Selenium</td>\n",
       "      <td>78.9710</td>\n",
       "    </tr>\n",
       "    <tr>\n",
       "      <th>34</th>\n",
       "      <td>35</td>\n",
       "      <td>Br</td>\n",
       "      <td>NaN</td>\n",
       "      <td>0.300</td>\n",
       "      <td>Bromine</td>\n",
       "      <td>79.9040</td>\n",
       "    </tr>\n",
       "    <tr>\n",
       "      <th>35</th>\n",
       "      <td>36</td>\n",
       "      <td>Kr</td>\n",
       "      <td>3.25</td>\n",
       "      <td>NaN</td>\n",
       "      <td>Krypton</td>\n",
       "      <td>83.7980</td>\n",
       "    </tr>\n",
       "    <tr>\n",
       "      <th>46</th>\n",
       "      <td>48</td>\n",
       "      <td>Cd</td>\n",
       "      <td>NaN</td>\n",
       "      <td>0.080</td>\n",
       "      <td>Cadmium</td>\n",
       "      <td>112.4140</td>\n",
       "    </tr>\n",
       "    <tr>\n",
       "      <th>49</th>\n",
       "      <td>51</td>\n",
       "      <td>Sb</td>\n",
       "      <td>NaN</td>\n",
       "      <td>0.050</td>\n",
       "      <td>Antimony</td>\n",
       "      <td>121.7600</td>\n",
       "    </tr>\n",
       "    <tr>\n",
       "      <th>50</th>\n",
       "      <td>52</td>\n",
       "      <td>Te</td>\n",
       "      <td>NaN</td>\n",
       "      <td>0.300</td>\n",
       "      <td>Tellurium</td>\n",
       "      <td>127.6000</td>\n",
       "    </tr>\n",
       "    <tr>\n",
       "      <th>51</th>\n",
       "      <td>53</td>\n",
       "      <td>I</td>\n",
       "      <td>NaN</td>\n",
       "      <td>0.050</td>\n",
       "      <td>Iodine</td>\n",
       "      <td>126.9040</td>\n",
       "    </tr>\n",
       "    <tr>\n",
       "      <th>52</th>\n",
       "      <td>54</td>\n",
       "      <td>Xe</td>\n",
       "      <td>2.24</td>\n",
       "      <td>NaN</td>\n",
       "      <td>Xenon</td>\n",
       "      <td>131.2930</td>\n",
       "    </tr>\n",
       "    <tr>\n",
       "      <th>53</th>\n",
       "      <td>55</td>\n",
       "      <td>Cs</td>\n",
       "      <td>NaN</td>\n",
       "      <td>0.035</td>\n",
       "      <td>Caesium</td>\n",
       "      <td>132.9050</td>\n",
       "    </tr>\n",
       "    <tr>\n",
       "      <th>72</th>\n",
       "      <td>73</td>\n",
       "      <td>Ta</td>\n",
       "      <td>NaN</td>\n",
       "      <td>0.025</td>\n",
       "      <td>Tantalum</td>\n",
       "      <td>180.9470</td>\n",
       "    </tr>\n",
       "    <tr>\n",
       "      <th>74</th>\n",
       "      <td>75</td>\n",
       "      <td>Re</td>\n",
       "      <td>NaN</td>\n",
       "      <td>0.075</td>\n",
       "      <td>Rhenium</td>\n",
       "      <td>186.2070</td>\n",
       "    </tr>\n",
       "    <tr>\n",
       "      <th>77</th>\n",
       "      <td>78</td>\n",
       "      <td>Pt</td>\n",
       "      <td>NaN</td>\n",
       "      <td>1.900</td>\n",
       "      <td>Platinum</td>\n",
       "      <td>195.0840</td>\n",
       "    </tr>\n",
       "    <tr>\n",
       "      <th>79</th>\n",
       "      <td>80</td>\n",
       "      <td>Hg</td>\n",
       "      <td>NaN</td>\n",
       "      <td>0.020</td>\n",
       "      <td>Mercury</td>\n",
       "      <td>200.5920</td>\n",
       "    </tr>\n",
       "    <tr>\n",
       "      <th>82</th>\n",
       "      <td>83</td>\n",
       "      <td>Bi</td>\n",
       "      <td>NaN</td>\n",
       "      <td>0.010</td>\n",
       "      <td>Bismuth</td>\n",
       "      <td>208.9800</td>\n",
       "    </tr>\n",
       "    <tr>\n",
       "      <th>84</th>\n",
       "      <td>92</td>\n",
       "      <td>U</td>\n",
       "      <td>NaN</td>\n",
       "      <td>0.015</td>\n",
       "      <td>Uranium</td>\n",
       "      <td>238.0280</td>\n",
       "    </tr>\n",
       "  </tbody>\n",
       "</table>\n",
       "</div>"
      ],
      "text/plain": [
       "     Z element  photosphere   bulk       Name    weight\n",
       "1    2      He        10.93    NaN     Helium    4.0020\n",
       "9   10      Ne         7.93    NaN       Neon   20.1797\n",
       "17  18      Ar         6.40    NaN      Argon   39.9480\n",
       "32  33      As          NaN  1.700    Arsenic   74.9210\n",
       "33  34      Se          NaN  2.700   Selenium   78.9710\n",
       "34  35      Br          NaN  0.300    Bromine   79.9040\n",
       "35  36      Kr         3.25    NaN    Krypton   83.7980\n",
       "46  48      Cd          NaN  0.080    Cadmium  112.4140\n",
       "49  51      Sb          NaN  0.050   Antimony  121.7600\n",
       "50  52      Te          NaN  0.300  Tellurium  127.6000\n",
       "51  53       I          NaN  0.050     Iodine  126.9040\n",
       "52  54      Xe         2.24    NaN      Xenon  131.2930\n",
       "53  55      Cs          NaN  0.035    Caesium  132.9050\n",
       "72  73      Ta          NaN  0.025   Tantalum  180.9470\n",
       "74  75      Re          NaN  0.075    Rhenium  186.2070\n",
       "77  78      Pt          NaN  1.900   Platinum  195.0840\n",
       "79  80      Hg          NaN  0.020    Mercury  200.5920\n",
       "82  83      Bi          NaN  0.010    Bismuth  208.9800\n",
       "84  92       U          NaN  0.015    Uranium  238.0280"
      ]
     },
     "execution_count": 9,
     "metadata": {},
     "output_type": "execute_result"
    }
   ],
   "source": [
    "tb.loc[tb.isnull()[['photosphere','bulk']].values.any(axis=1)]"
   ]
  },
  {
   "cell_type": "code",
   "execution_count": 10,
   "metadata": {},
   "outputs": [
    {
     "data": {
      "text/plain": [
       "0.02"
      ]
     },
     "execution_count": 10,
     "metadata": {},
     "output_type": "execute_result"
    }
   ],
   "source": [
    "tb.photosphere.min()"
   ]
  },
  {
   "cell_type": "code",
   "execution_count": 11,
   "metadata": {},
   "outputs": [
    {
     "data": {
      "text/plain": [
       "1000790.7289999999"
      ]
     },
     "execution_count": 11,
     "metadata": {},
     "output_type": "execute_result"
    }
   ],
   "source": [
    "tb.bulk.sum()   # should be 1000000 because it's parts per million ..."
   ]
  },
  {
   "cell_type": "code",
   "execution_count": 12,
   "metadata": {
    "collapsed": true
   },
   "outputs": [],
   "source": [
    "f_k = tb.weight*10**tb.photosphere/(tb.weight*10**tb.photosphere.fillna(-2)).sum()\n",
    "g_k = tb.bulk / 1e6\n",
    "\n",
    "Fe = np.where(tb.element == 'Fe')[0][0]"
   ]
  },
  {
   "cell_type": "code",
   "execution_count": 13,
   "metadata": {},
   "outputs": [
    {
     "name": "stdout",
     "output_type": "stream",
     "text": [
      "Asplund 2009 solar X=0.7374 Y=0.2492 Z=0.0134\n"
     ]
    }
   ],
   "source": [
    "print('Asplund 2009 solar X={:.4f} Y={:.4f} Z={:.4f}'.format(\n",
    "    f_k[0], f_k[1], f_k[2:].sum()))"
   ]
  },
  {
   "cell_type": "code",
   "execution_count": 14,
   "metadata": {},
   "outputs": [
    {
     "data": {
      "image/png": "[encoded data removed]",
      "text/plain": [
       "<matplotlib.figure.Figure at 0x115809550>"
      ]
     },
     "metadata": {},
     "output_type": "display_data"
    }
   ],
   "source": [
    "plt.plot(tb.Z[3:], f_k[3:], '.-', label='sun')\n",
    "plt.plot(tb.Z[3:], g_k[3:], '.-', label='earth')\n",
    "plt.yscale('log')\n",
    "plt.axvline(tb.Z[Fe], c='k', lw=1, zorder=-10)\n",
    "plt.ylabel('mass fraction')\n",
    "plt.xlabel('atomic number')\n",
    "plt.legend(loc='upper right');"
   ]
  },
  {
   "cell_type": "code",
   "execution_count": 15,
   "metadata": {},
   "outputs": [
    {
     "data": {
      "image/png": "[encoded data removed]",
      "text/plain": [
       "<matplotlib.figure.Figure at 0x115cdf080>"
      ]
     },
     "metadata": {},
     "output_type": "display_data"
    }
   ],
   "source": [
    "diff = g_k[3:]/f_k[3:]- g_k[25]/f_k[25]\n",
    "absdiff = np.fabs(diff)\n",
    "Z = tb.Z[3:].values\n",
    "element = tb.element[3:]\n",
    "N = 20\n",
    "plt.plot(np.arange(N), absdiff.sort_values(ascending=False)[:N], '.-')\n",
    "plt.xticks(np.arange(N), tb.element[absdiff.sort_values(ascending=False).index][:N]);\n",
    "plt.ylabel('$|d \\ln Q / d m|$ [arbitrary mass unit$^{-1}$]');\n",
    "plt.xlabel('element')\n",
    "plt.title('Top {:d} with largest abs. deriv'.format(N));\n",
    "plt.yscale('log')"
   ]
  },
  {
   "cell_type": "markdown",
   "metadata": {},
   "source": [
    "The most _informative_ element also depends on the spectral response, $d f_\\lambda/d \\ln Q_k$."
   ]
  },
  {
   "cell_type": "code",
   "execution_count": 16,
   "metadata": {},
   "outputs": [
    {
     "data": {
      "image/png": "[encoded data removed]",
      "text/plain": [
       "<matplotlib.figure.Figure at 0x115e9d400>"
      ]
     },
     "metadata": {},
     "output_type": "display_data"
    }
   ],
   "source": [
    "plt.figure(figsize=(10,3))\n",
    "ax = plt.axes([0.1,0.15,0.85,0.65])\n",
    "alpha = 0.02\n",
    "M = (u.solMass).to(u.earthMass)\n",
    "m = 0.\n",
    "\n",
    "# term1 = g_k / (f_k * alpha * M + g_k * m)\n",
    "# term2 = g_k[Fe] / (f_k[Fe] * alpha * M + g_k[Fe] * m)\n",
    "deriv = g_k / (f_k * alpha * M + g_k * m) - g_k[Fe] / (f_k[Fe] * alpha * M + g_k[Fe] * m)\n",
    "l, = plt.plot(tb.Z[3:], deriv[3:], '.')\n",
    "\n",
    "plt.xlabel('atomic number')\n",
    "plt.ylabel('$d \\ln Q / d m$ [$M_\\oplus^{-1}$]')\n",
    "plt.axhline(0, c='k', lw=1, zorder=-10)\n",
    "plt.axvline(tb.Z[Fe], c='k', lw=1, zorder=-15)\n",
    "\n",
    "ax2 = plt.twiny()\n",
    "ax2.set_xlim(ax.get_xlim())\n",
    "plt.xticks(tb.Z[absdiff.sort_values(ascending=False).index[:10]],\n",
    "           tb.element[absdiff.sort_values(ascending=False).index[:10]]);\n",
    "plt.suptitle('Derivatives for a solar-type star');"
   ]
  },
  {
   "cell_type": "code",
   "execution_count": null,
   "metadata": {
    "collapsed": true
   },
   "outputs": [],
   "source": []
  }
 ],
 "metadata": {
  "kernelspec": {
   "display_name": "Python [conda env:gwb]",
   "language": "python",
   "name": "conda-env-gwb-py"
  },
  "language_info": {
   "codemirror_mode": {
    "name": "ipython",
    "version": 3
   },
   "file_extension": ".py",
   "mimetype": "text/x-python",
   "name": "python",
   "nbconvert_exporter": "python",
   "pygments_lexer": "ipython3",
   "version": "3.5.3"
  },
  "toc": {
   "colors": {
    "hover_highlight": "#DAA520",
    "running_highlight": "#FF0000",
    "selected_highlight": "#FFD700"
   },
   "moveMenuLeft": true,
   "nav_menu": {
    "height": "12px",
    "width": "252px"
   },
   "navigate_menu": true,
   "number_sections": true,
   "sideBar": true,
   "threshold": 4,
   "toc_cell": false,
   "toc_section_display": "block",
   "toc_window_display": false
  }
 },
 "nbformat": 4,
 "nbformat_minor": 2
}
