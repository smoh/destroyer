{
 "cells": [
  {
   "cell_type": "code",
   "execution_count": null,
   "metadata": {
    "collapsed": true
   },
   "outputs": [],
   "source": [
    "%matplotlib inline\n",
    "import matplotlib.pyplot as plt\n",
    "import pandas as pd\n",
    "import numpy as np\n",
    "\n",
    "from astropy.table import Table\n",
    "import astropy.units as u\n",
    "import astropy.constants as c\n",
    "import astropy.coordinates as coords"
   ]
  },
  {
   "cell_type": "code",
   "execution_count": null,
   "metadata": {
    "collapsed": true
   },
   "outputs": [],
   "source": [
    "plt.rc('figure', dpi=120)"
   ]
  },
  {
   "cell_type": "code",
   "execution_count": null,
   "metadata": {},
   "outputs": [],
   "source": [
    "10.*u.earthMass/(0.02*u.solMass).to(u.earthMass)"
   ]
  },
  {
   "cell_type": "code",
   "execution_count": null,
   "metadata": {},
   "outputs": [],
   "source": [
    "from destroyer import RockDerivative, GradientSpectra, Spectra"
   ]
  },
  {
   "cell_type": "code",
   "execution_count": null,
   "metadata": {},
   "outputs": [],
   "source": [
    "rd = RockDerivative()\n",
    "dXHdm = rd.dXHdm_avg(0, 20)"
   ]
  },
  {
   "cell_type": "code",
   "execution_count": null,
   "metadata": {},
   "outputs": [],
   "source": [
    "g = GradientSpectra()"
   ]
  },
  {
   "cell_type": "code",
   "execution_count": null,
   "metadata": {},
   "outputs": [],
   "source": [
    "res = np.array([g.gradient[z]*dXHdm[i] for i, z in rd.df.Z[2:].iteritems()])\n",
    "netres = res.sum(axis=0)"
   ]
  },
  {
   "cell_type": "code",
   "execution_count": null,
   "metadata": {},
   "outputs": [],
   "source": [
    "d = Spectra()"
   ]
  },
  {
   "cell_type": "code",
   "execution_count": null,
   "metadata": {},
   "outputs": [],
   "source": [
    "from numpy import ma"
   ]
  },
  {
   "cell_type": "code",
   "execution_count": null,
   "metadata": {},
   "outputs": [],
   "source": [
    "maskedspec = ma.array(d.spec, mask=d.mask, fill_value=0)\n",
    "maskedivar = ma.array(d.ivar, mask=d.mask, fill_value=1)"
   ]
  },
  {
   "cell_type": "code",
   "execution_count": null,
   "metadata": {},
   "outputs": [],
   "source": [
    "print(\"number of wavelength pixels = {:d}\".format(g.wave.size))"
   ]
  },
  {
   "cell_type": "code",
   "execution_count": null,
   "metadata": {},
   "outputs": [],
   "source": [
    "from matplotlib import ticker"
   ]
  },
  {
   "cell_type": "code",
   "execution_count": null,
   "metadata": {},
   "outputs": [],
   "source": [
    "plt.hist(d.mask.sum(axis=1), np.logspace(0,4,64), log=True);\n",
    "plt.xscale('log');\n",
    "plt.gca().xaxis.set_major_formatter(ticker.ScalarFormatter());\n",
    "plt.axvline(g.wave.size, c='k', lw=.5,);\n",
    "plt.axvline(g.wave.size*0.1, c='k', lw=.5, ls='dashed');\n",
    "plt.axvline(g.wave.size*0.01, c='k', lw=.5, ls='dashed');\n",
    "plt.xlabel(\"Number of masked pixels\");\n",
    "plt.ylabel(\"Count\");\n",
    "plt.tight_layout();\n",
    "plt.savefig(\"plots/number_of_masked_pixels.png\");"
   ]
  },
  {
   "cell_type": "code",
   "execution_count": null,
   "metadata": {},
   "outputs": [],
   "source": [
    "randidx = np.random.randint(0, high=d.spec.shape[0], size=50)\n",
    "plt.pcolor(g.wave, np.arange(50), d.mask[randidx], cmap='gray_r');\n",
    "plt.xlabel(r\"Wavelength [$\\AA$]\")\n",
    "plt.title(\"Masks of random 50 star spectra\");\n",
    "plt.tight_layout()\n",
    "plt.savefig(\"plots/random_50_masks.png\");"
   ]
  },
  {
   "cell_type": "code",
   "execution_count": null,
   "metadata": {},
   "outputs": [],
   "source": [
    "medspec = ma.median(maskedspec, axis=0)\n",
    "diffspec = maskedspec - medspec"
   ]
  },
  {
   "cell_type": "code",
   "execution_count": null,
   "metadata": {},
   "outputs": [],
   "source": [
    "plt.figure(figsize=(10,4));\n",
    "plt.xlim(3800,9000)\n",
    "plt.plot(g.wave, medspec, lw=.5);\n",
    "plt.xlabel(\"Wavelength [$\\AA$]\")\n",
    "plt.title(\"Median spectrum\");\n",
    "plt.tight_layout()\n",
    "plt.savefig(\"plots/median_spec.png\");"
   ]
  },
  {
   "cell_type": "code",
   "execution_count": null,
   "metadata": {},
   "outputs": [],
   "source": [
    "beta = np.einsum('i,ji,ji->j', netres, diffspec.filled(), maskedivar.filled()) / np.einsum('i,ji->j', netres**2, maskedivar.filled())\n",
    "model = np.einsum('i,j->ij', beta, netres)\n",
    "chisq = ma.sum((diffspec-model)**2*maskedivar, axis=1)"
   ]
  },
  {
   "cell_type": "code",
   "execution_count": null,
   "metadata": {},
   "outputs": [],
   "source": [
    "np.percentile(beta, [0,.01,1,15,50,75,99,99.9,100])"
   ]
  },
  {
   "cell_type": "code",
   "execution_count": null,
   "metadata": {},
   "outputs": [],
   "source": [
    "plt.plot(beta, chisq, 'k,')\n",
    "plt.xlim(-50,50);\n",
    "plt.ylim(100, 1e5);\n",
    "plt.yscale('log')"
   ]
  },
  {
   "cell_type": "code",
   "execution_count": null,
   "metadata": {},
   "outputs": [],
   "source": [
    "fig, ax = plt.subplots(1, 2, figsize=(8,4))\n",
    "ax[0].hist(beta, np.linspace(-50,50,101),);\n",
    "# plt.axvspan(15,25,alpha=.5, color='gray');\n",
    "ax[0].axvline(0, c='k', lw=1)\n",
    "ax[0].set_xlabel(r\"$\\hat\\beta^i$ [$M_\\oplus$]\")\n",
    "ax[1].hist(beta, np.linspace(-100,100,101), log=True);\n",
    "ax[1].set_xlabel(r\"$\\hat\\beta^i$ [$M_\\oplus$]\");\n",
    "fig.tight_layout()\n",
    "for a in ax:\n",
    "    plt.sca(a)\n",
    "    plt.axvspan(-48,-55, alpha=.5, facecolor='tab:gray', );\n",
    "    plt.axvspan(15,25, alpha=.5, facecolor='tab:red', );\n",
    "fig.savefig(\"plots/hist_beta.png\");"
   ]
  },
  {
   "cell_type": "code",
   "execution_count": null,
   "metadata": {},
   "outputs": [],
   "source": [
    "percspec = np.nanpercentile(d.spec, [0,0.1,1,2,10,50,90,98,99,99.9,100], axis=0)"
   ]
  },
  {
   "cell_type": "code",
   "execution_count": null,
   "metadata": {},
   "outputs": [],
   "source": [
    "outlier = (d.spec<percspec[1][None,:]) | (d.spec>percspec[-1][None,:])"
   ]
  },
  {
   "cell_type": "code",
   "execution_count": null,
   "metadata": {},
   "outputs": [],
   "source": [
    "plt.figure(figsize=(10,3))\n",
    "plt.plot(percspec[[2,-2]].T, lw=.5);\n",
    "# plt.plot(d.spec[0]-percspec[2], lw=.5, c='k')\n",
    "# plt.plot(outlier[0], c='r')\n",
    "# plt.axhline(0)\n",
    "# plt.ylim(-0.1,.6)"
   ]
  },
  {
   "cell_type": "code",
   "execution_count": null,
   "metadata": {},
   "outputs": [],
   "source": [
    "# wth = np.where((beta<-48) & (beta>-55))[0]\n",
    "wth = np.where((beta>50) & (beta<100))[0]\n",
    "wth"
   ]
  },
  {
   "cell_type": "code",
   "execution_count": null,
   "metadata": {},
   "outputs": [],
   "source": [
    "chisq[wth]/(~d.mask)[wth].sum(axis=1)"
   ]
  },
  {
   "cell_type": "code",
   "execution_count": null,
   "metadata": {},
   "outputs": [],
   "source": [
    "!mkdir plots/beta_50_100"
   ]
  },
  {
   "cell_type": "code",
   "execution_count": null,
   "metadata": {},
   "outputs": [],
   "source": [
    "for j in wth:\n",
    "    plt.figure(figsize=(10,4))\n",
    "    plt.plot(g.wave, diffspec[j].T, lw=.5);\n",
    "    # smoothed_signal = convolve(diffspec[j], Box1DKernel(5))\n",
    "    # plt.plot(g.wave, smoothed_signal, lw=1)\n",
    "    plt.plot(g.wave, model[j], lw=.5)\n",
    "    plt.title(r\"{:d} $\\beta$={:.2f}\".format(j,beta[j]));\n",
    "    plt.tight_layout()\n",
    "    plt.savefig(\"plots/beta_50_100/{:d}.png\".format(j))\n",
    "    plt.close()"
   ]
  },
  {
   "cell_type": "code",
   "execution_count": null,
   "metadata": {},
   "outputs": [],
   "source": [
    "from astropy.convolution import convolve, Box1DKernel"
   ]
  },
  {
   "cell_type": "code",
   "execution_count": null,
   "metadata": {},
   "outputs": [],
   "source": [
    "smoothed_signal = convolve(diffspec[j], Box1DKernel(5))"
   ]
  },
  {
   "cell_type": "code",
   "execution_count": null,
   "metadata": {},
   "outputs": [],
   "source": [
    "plt.figure(figsize=(10,4))\n",
    "# plt.plot(wave, diffspec[j], lw=1)\n",
    "plt.plot(wave, smoothed_signal)\n",
    "plt.plot(wave, netres*s[j], lw=1)\n",
    "# plt.plot(wave, diffspec[j] - netres*s[j] - 0.2, lw=.5)\n",
    "# plt.xlim(3800,5000)\n",
    "# plt.xlim(5000,6000)\n",
    "# plt.xlim(8000,9000)\n",
    "plt.ylim(-.2,.2)"
   ]
  },
  {
   "cell_type": "code",
   "execution_count": null,
   "metadata": {},
   "outputs": [],
   "source": []
  }
 ],
 "metadata": {
  "kernelspec": {
   "display_name": "Python 3",
   "language": "python",
   "name": "python3"
  },
  "language_info": {
   "codemirror_mode": {
    "name": "ipython",
    "version": 3
   },
   "file_extension": ".py",
   "mimetype": "text/x-python",
   "name": "python",
   "nbconvert_exporter": "python",
   "pygments_lexer": "ipython3",
   "version": "3.6.2"
  },
  "toc": {
   "colors": {
    "hover_highlight": "#DAA520",
    "running_highlight": "#FF0000",
    "selected_highlight": "#FFD700"
   },
   "moveMenuLeft": true,
   "nav_menu": {
    "height": "12px",
    "width": "252px"
   },
   "navigate_menu": true,
   "number_sections": true,
   "sideBar": true,
   "threshold": 4,
   "toc_cell": false,
   "toc_section_display": "block",
   "toc_window_display": false
  }
 },
 "nbformat": 4,
 "nbformat_minor": 2
}
